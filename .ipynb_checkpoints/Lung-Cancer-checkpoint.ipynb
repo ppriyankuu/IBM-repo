{
 "cells": [
  {
   "cell_type": "code",
   "execution_count": 21,
   "id": "7c559318-a0d9-47b4-980b-7f980a2fb683",
   "metadata": {},
   "outputs": [],
   "source": [
    "import pandas as pd\n",
    "import matplotlib.pyplot as plt"
   ]
  },
  {
   "cell_type": "code",
   "execution_count": 40,
   "id": "02ce40f1-3903-4a42-a9ef-79a7586c0602",
   "metadata": {},
   "outputs": [
    {
     "data": {
      "text/plain": [
       "ID                                  0\n",
       "Country                             0\n",
       "Population_Size                     0\n",
       "Age                                 0\n",
       "Gender                              0\n",
       "Smoker                              0\n",
       "Years_of_Smoking                    0\n",
       "Cigarettes_per_Day                  0\n",
       "Passive_Smoker                      0\n",
       "Family_History                      0\n",
       "Lung_Cancer_Diagnosis               0\n",
       "Cancer_Stage                   211671\n",
       "Survival_Years                      0\n",
       "Adenocarcinoma_Type                 0\n",
       "Air_Pollution_Exposure              0\n",
       "Occupational_Exposure               0\n",
       "Indoor_Pollution                    0\n",
       "Healthcare_Access                   0\n",
       "Early_Detection                     0\n",
       "Treatment_Type                 213968\n",
       "Developed_or_Developing             0\n",
       "Annual_Lung_Cancer_Deaths           0\n",
       "Lung_Cancer_Prevalence_Rate         0\n",
       "Mortality_Rate                      0\n",
       "dtype: int64"
      ]
     },
     "execution_count": 40,
     "metadata": {},
     "output_type": "execute_result"
    }
   ],
   "source": [
    "df = pd.read_csv('datasets/lung_cancer_prediction_dataset.csv')\n",
    "df.isnull().sum()"
   ]
  },
  {
   "cell_type": "code",
   "execution_count": 41,
   "id": "9c41f1f9-5e60-44c3-ae8a-83e7d03fb0d1",
   "metadata": {},
   "outputs": [
    {
     "name": "stdout",
     "output_type": "stream",
     "text": [
      "<class 'pandas.core.frame.DataFrame'>\n",
      "RangeIndex: 220632 entries, 0 to 220631\n",
      "Data columns (total 24 columns):\n",
      " #   Column                       Non-Null Count   Dtype  \n",
      "---  ------                       --------------   -----  \n",
      " 0   ID                           220632 non-null  int64  \n",
      " 1   Country                      220632 non-null  object \n",
      " 2   Population_Size              220632 non-null  int64  \n",
      " 3   Age                          220632 non-null  int64  \n",
      " 4   Gender                       220632 non-null  object \n",
      " 5   Smoker                       220632 non-null  object \n",
      " 6   Years_of_Smoking             220632 non-null  int64  \n",
      " 7   Cigarettes_per_Day           220632 non-null  int64  \n",
      " 8   Passive_Smoker               220632 non-null  object \n",
      " 9   Family_History               220632 non-null  object \n",
      " 10  Lung_Cancer_Diagnosis        220632 non-null  object \n",
      " 11  Cancer_Stage                 8961 non-null    object \n",
      " 12  Survival_Years               220632 non-null  int64  \n",
      " 13  Adenocarcinoma_Type          220632 non-null  object \n",
      " 14  Air_Pollution_Exposure       220632 non-null  object \n",
      " 15  Occupational_Exposure        220632 non-null  object \n",
      " 16  Indoor_Pollution             220632 non-null  object \n",
      " 17  Healthcare_Access            220632 non-null  object \n",
      " 18  Early_Detection              220632 non-null  object \n",
      " 19  Treatment_Type               6664 non-null    object \n",
      " 20  Developed_or_Developing      220632 non-null  object \n",
      " 21  Annual_Lung_Cancer_Deaths    220632 non-null  int64  \n",
      " 22  Lung_Cancer_Prevalence_Rate  220632 non-null  float64\n",
      " 23  Mortality_Rate               220632 non-null  float64\n",
      "dtypes: float64(2), int64(7), object(15)\n",
      "memory usage: 40.4+ MB\n"
     ]
    }
   ],
   "source": [
    "df.info()"
   ]
  },
  {
   "cell_type": "code",
   "execution_count": 42,
   "id": "66239373-a0a4-4b6d-8682-1a51b3d44956",
   "metadata": {},
   "outputs": [],
   "source": [
    "df.drop(columns=['Cancer_Stage', 'Treatment_Type'], inplace=True)"
   ]
  },
  {
   "cell_type": "code",
   "execution_count": 43,
   "id": "41a54264-1ddf-492d-9892-0a2dad48deb8",
   "metadata": {},
   "outputs": [],
   "source": [
    "# Imputing numeric columns with median\n",
    "numeric_cols = df.select_dtypes(include=['int64', 'float64']).columns\n",
    "for col in numeric_cols:\n",
    "    df[col] = df[col].fillna(df[col].median())\n",
    "\n",
    "# Imputing categorical columns with mode\n",
    "categorical_cols = df.select_dtypes(include=['object']).columns\n",
    "for col in categorical_cols:\n",
    "    df[col] = df[col].fillna(df[col].mode()[0])"
   ]
  },
  {
   "cell_type": "code",
   "execution_count": 44,
   "id": "121b6294-299c-4b5e-8149-4872f495b073",
   "metadata": {},
   "outputs": [
    {
     "name": "stdout",
     "output_type": "stream",
     "text": [
      "<class 'pandas.core.frame.DataFrame'>\n",
      "RangeIndex: 220632 entries, 0 to 220631\n",
      "Data columns (total 22 columns):\n",
      " #   Column                       Non-Null Count   Dtype  \n",
      "---  ------                       --------------   -----  \n",
      " 0   ID                           220632 non-null  int64  \n",
      " 1   Country                      220632 non-null  object \n",
      " 2   Population_Size              220632 non-null  int64  \n",
      " 3   Age                          220632 non-null  int64  \n",
      " 4   Gender                       220632 non-null  object \n",
      " 5   Smoker                       220632 non-null  object \n",
      " 6   Years_of_Smoking             220632 non-null  int64  \n",
      " 7   Cigarettes_per_Day           220632 non-null  int64  \n",
      " 8   Passive_Smoker               220632 non-null  object \n",
      " 9   Family_History               220632 non-null  object \n",
      " 10  Lung_Cancer_Diagnosis        220632 non-null  object \n",
      " 11  Survival_Years               220632 non-null  int64  \n",
      " 12  Adenocarcinoma_Type          220632 non-null  object \n",
      " 13  Air_Pollution_Exposure       220632 non-null  object \n",
      " 14  Occupational_Exposure        220632 non-null  object \n",
      " 15  Indoor_Pollution             220632 non-null  object \n",
      " 16  Healthcare_Access            220632 non-null  object \n",
      " 17  Early_Detection              220632 non-null  object \n",
      " 18  Developed_or_Developing      220632 non-null  object \n",
      " 19  Annual_Lung_Cancer_Deaths    220632 non-null  int64  \n",
      " 20  Lung_Cancer_Prevalence_Rate  220632 non-null  float64\n",
      " 21  Mortality_Rate               220632 non-null  float64\n",
      "dtypes: float64(2), int64(7), object(13)\n",
      "memory usage: 37.0+ MB\n"
     ]
    }
   ],
   "source": [
    "df.info()"
   ]
  },
  {
   "cell_type": "code",
   "execution_count": 45,
   "id": "ce6f9360-b3cf-4954-a60e-573f2bc541bf",
   "metadata": {},
   "outputs": [],
   "source": [
    "# Converting categorical columns to 'category'\n",
    "categorical_cols = df.select_dtypes(include=['object']).columns\n",
    "df[categorical_cols] = df[categorical_cols].astype('category')"
   ]
  },
  {
   "cell_type": "code",
   "execution_count": 46,
   "id": "7d6228b6-63e0-41aa-93e8-4f4573a14b39",
   "metadata": {},
   "outputs": [],
   "source": [
    "from sklearn.preprocessing import LabelEncoder\n",
    "\n",
    "label_encoder = LabelEncoder()\n",
    "df['Developed_or_Developing'] = label_encoder.fit_transform(df['Developed_or_Developing'])"
   ]
  },
  {
   "cell_type": "code",
   "execution_count": 47,
   "id": "e9663193-a9d5-4e45-aaf8-e4cef452a67d",
   "metadata": {},
   "outputs": [],
   "source": [
    "df.drop_duplicates(inplace=True)"
   ]
  },
  {
   "cell_type": "code",
   "execution_count": 56,
   "id": "87110a09-c294-4709-9c10-63fa4fc3aa2e",
   "metadata": {},
   "outputs": [],
   "source": [
    "from sklearn.preprocessing import MinMaxScaler\n",
    "\n",
    "scaler = MinMaxScaler()\n",
    "numeric_cols = df.select_dtypes(include=['int64', 'float64']).columns\n",
    "df[numeric_cols] = scaler.fit_transform(df[numeric_cols])"
   ]
  },
  {
   "cell_type": "code",
   "execution_count": 49,
   "id": "ec2c0638-3e11-4175-8290-96f198819fdd",
   "metadata": {},
   "outputs": [],
   "source": [
    "df.to_csv('datasets/cleaned-lung-cancer.csv')"
   ]
  },
  {
   "cell_type": "code",
   "execution_count": 50,
   "id": "836e3f82-c982-47dd-ac1a-2d5b54b30a8a",
   "metadata": {},
   "outputs": [
    {
     "name": "stdout",
     "output_type": "stream",
     "text": [
      "<class 'pandas.core.frame.DataFrame'>\n",
      "RangeIndex: 220632 entries, 0 to 220631\n",
      "Data columns (total 22 columns):\n",
      " #   Column                       Non-Null Count   Dtype   \n",
      "---  ------                       --------------   -----   \n",
      " 0   ID                           220632 non-null  float64 \n",
      " 1   Country                      220632 non-null  category\n",
      " 2   Population_Size              220632 non-null  float64 \n",
      " 3   Age                          220632 non-null  float64 \n",
      " 4   Gender                       220632 non-null  category\n",
      " 5   Smoker                       220632 non-null  category\n",
      " 6   Years_of_Smoking             220632 non-null  float64 \n",
      " 7   Cigarettes_per_Day           220632 non-null  float64 \n",
      " 8   Passive_Smoker               220632 non-null  category\n",
      " 9   Family_History               220632 non-null  category\n",
      " 10  Lung_Cancer_Diagnosis        220632 non-null  category\n",
      " 11  Survival_Years               220632 non-null  float64 \n",
      " 12  Adenocarcinoma_Type          220632 non-null  category\n",
      " 13  Air_Pollution_Exposure       220632 non-null  category\n",
      " 14  Occupational_Exposure        220632 non-null  category\n",
      " 15  Indoor_Pollution             220632 non-null  category\n",
      " 16  Healthcare_Access            220632 non-null  category\n",
      " 17  Early_Detection              220632 non-null  category\n",
      " 18  Developed_or_Developing      220632 non-null  float64 \n",
      " 19  Annual_Lung_Cancer_Deaths    220632 non-null  float64 \n",
      " 20  Lung_Cancer_Prevalence_Rate  220632 non-null  float64 \n",
      " 21  Mortality_Rate               220632 non-null  float64 \n",
      "dtypes: category(12), float64(10)\n",
      "memory usage: 19.4 MB\n"
     ]
    }
   ],
   "source": [
    "df.info()"
   ]
  },
  {
   "cell_type": "code",
   "execution_count": null,
   "id": "15e23350-bd68-4b84-a074-aff571f88df3",
   "metadata": {},
   "outputs": [],
   "source": []
  },
  {
   "cell_type": "code",
   "execution_count": null,
   "id": "21c98c4b-322d-4960-9e84-a3ba161f5710",
   "metadata": {},
   "outputs": [],
   "source": []
  }
 ],
 "metadata": {
  "kernelspec": {
   "display_name": "Python 3 (ipykernel)",
   "language": "python",
   "name": "python3"
  },
  "language_info": {
   "codemirror_mode": {
    "name": "ipython",
    "version": 3
   },
   "file_extension": ".py",
   "mimetype": "text/x-python",
   "name": "python",
   "nbconvert_exporter": "python",
   "pygments_lexer": "ipython3",
   "version": "3.12.3"
  }
 },
 "nbformat": 4,
 "nbformat_minor": 5
}
